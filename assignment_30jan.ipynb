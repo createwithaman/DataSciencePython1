{
 "cells": [
  {
   "cell_type": "code",
   "execution_count": 7,
   "id": "2c3fc7a2-22f7-47a7-873d-9b87ba2887ce",
   "metadata": {},
   "outputs": [
    {
     "name": "stdin",
     "output_type": "stream",
     "text": [
      "Enter your persent that you get :  52\n"
     ]
    },
    {
     "name": "stdout",
     "output_type": "stream",
     "text": [
      "You get D grad do hard work\n"
     ]
    }
   ],
   "source": [
    "#Answer of 1st question\n",
    "User_Given_Persent = float(input(\"Enter your persent that you get : \"))\n",
    "if User_Given_Persent > 90:\n",
    "    print(\"You get A grad\")\n",
    "elif User_Given_Persent >80 and User_Given_Persent<=90:\n",
    "    print(\"You get B grad\")\n",
    "elif User_Given_Persent >=60 and User_Given_Persent<=80:\n",
    "    print(\"You get C grad\")\n",
    "else:\n",
    "    print(\"You get D grad do hard work\")"
   ]
  },
  {
   "cell_type": "code",
   "execution_count": 10,
   "id": "9b0cca48-aaa8-4a65-9dc4-bcbe109f3163",
   "metadata": {},
   "outputs": [
    {
     "name": "stdin",
     "output_type": "stream",
     "text": [
      "enter your cost price :  11656456\n"
     ]
    },
    {
     "name": "stdout",
     "output_type": "stream",
     "text": [
      " you will pay 15% tax\n"
     ]
    }
   ],
   "source": [
    "#Answer of 2nd question\n",
    "\n",
    "Costprice = int(input(\"enter your cost price : \"))\n",
    "if Costprice >100000:\n",
    "    print ( \" you will pay 15% tax\")\n",
    "elif Costprice >50000 and Costprice <=100000:\n",
    "    print(\"you will pay 10% tax\")\n",
    "else:\n",
    "    print(\"you will pay 5% tax\")"
   ]
  },
  {
   "cell_type": "code",
   "execution_count": 17,
   "id": "2f1b1745-bfa4-4933-a798-193b01bd838a",
   "metadata": {},
   "outputs": [
    {
     "name": "stdin",
     "output_type": "stream",
     "text": [
      "enter your city name plzz user :  damoh\n"
     ]
    },
    {
     "name": "stdout",
     "output_type": "stream",
     "text": [
      "sorry that city you entered i dont have data for it\n"
     ]
    }
   ],
   "source": [
    "#Answer of 3rd question\n",
    "\n",
    "City = input(\"enter your city name plzz user : \")\n",
    "if City == \"dehli\":\n",
    "    print(\"you are in dehli wellcome to delhi and monument of delhi is rad fort\")\n",
    "elif City == \"agra\":\n",
    "    print( \"your are in agra wellcome to agra and monument of agra is Taj mahal\")\n",
    "elif City == \"jaipur\":\n",
    "    print(\" you are in jaipur wellcome to jaipur and monument of jaipur is hawamahal\")\n",
    "else:\n",
    "    print(\"sorry that city you entered i dont have data for it\")"
   ]
  },
  {
   "cell_type": "code",
   "execution_count": null,
   "id": "75489b68-3560-487b-b629-a2490196f804",
   "metadata": {},
   "outputs": [],
   "source": []
  },
  {
   "cell_type": "code",
   "execution_count": null,
   "id": "04460d10-8b39-4263-a8c4-075dbf0e234f",
   "metadata": {},
   "outputs": [],
   "source": []
  },
  {
   "cell_type": "code",
   "execution_count": null,
   "id": "03355f4a-4ea7-4cbd-9429-fd67002c0bdf",
   "metadata": {},
   "outputs": [],
   "source": []
  },
  {
   "cell_type": "code",
   "execution_count": null,
   "id": "5fa8f49c-fba1-4565-bf1c-a29e34bffa8b",
   "metadata": {},
   "outputs": [],
   "source": []
  },
  {
   "cell_type": "code",
   "execution_count": null,
   "id": "146db160-d556-42f9-bef8-4d7afcfda8da",
   "metadata": {},
   "outputs": [],
   "source": []
  },
  {
   "cell_type": "code",
   "execution_count": null,
   "id": "b62cbda0-b64c-4c7e-9eab-435fc17fd29b",
   "metadata": {},
   "outputs": [],
   "source": []
  },
  {
   "cell_type": "code",
   "execution_count": null,
   "id": "434e950d-a61d-43b7-83f3-421bd7243d30",
   "metadata": {},
   "outputs": [],
   "source": []
  },
  {
   "cell_type": "code",
   "execution_count": null,
   "id": "fa491031-18d7-4029-baec-318dfb11b531",
   "metadata": {},
   "outputs": [],
   "source": []
  },
  {
   "cell_type": "code",
   "execution_count": null,
   "id": "a34b0b25-3435-4b5a-8f70-df28d344fb37",
   "metadata": {},
   "outputs": [],
   "source": []
  },
  {
   "cell_type": "code",
   "execution_count": null,
   "id": "f015c345-13fb-47e1-9480-633b66e56634",
   "metadata": {},
   "outputs": [],
   "source": []
  },
  {
   "cell_type": "code",
   "execution_count": null,
   "id": "942b09e7-21bc-41da-b7b2-ec39528248ea",
   "metadata": {},
   "outputs": [],
   "source": []
  },
  {
   "cell_type": "code",
   "execution_count": null,
   "id": "bac59c3d-3ba9-47b8-8a26-aae9ac776054",
   "metadata": {},
   "outputs": [],
   "source": []
  },
  {
   "cell_type": "code",
   "execution_count": null,
   "id": "c33bb305-18dc-441e-a1d8-7eae3142989a",
   "metadata": {},
   "outputs": [],
   "source": []
  },
  {
   "cell_type": "code",
   "execution_count": null,
   "id": "4c6f00b7-c385-496a-b461-cde92e263dd9",
   "metadata": {},
   "outputs": [],
   "source": []
  }
 ],
 "metadata": {
  "kernelspec": {
   "display_name": "Python 3 (ipykernel)",
   "language": "python",
   "name": "python3"
  },
  "language_info": {
   "codemirror_mode": {
    "name": "ipython",
    "version": 3
   },
   "file_extension": ".py",
   "mimetype": "text/x-python",
   "name": "python",
   "nbconvert_exporter": "python",
   "pygments_lexer": "ipython3",
   "version": "3.10.8"
  }
 },
 "nbformat": 4,
 "nbformat_minor": 5
}
