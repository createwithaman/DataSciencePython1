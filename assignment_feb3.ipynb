{
 "cells": [
  {
   "cell_type": "markdown",
   "id": "b5105605-bb9b-4b77-8b73-cd66ba5b0042",
   "metadata": {},
   "source": [
    "Q1. Which keyword is used to create a function? Create a function to return a list of odd numbers in the\n",
    "range of 1 to 25\n",
    "\n",
    "def keyword is used to create a function. "
   ]
  },
  {
   "cell_type": "code",
   "execution_count": 46,
   "id": "09811bfd-4999-456d-81bf-0d1d20ced81e",
   "metadata": {},
   "outputs": [],
   "source": [
    "def test(*a):\n",
    "    n = []\n",
    "    for i in a:\n",
    "        if i % 2 != 0:\n",
    "            n.append(i)\n",
    "            \n",
    "    return n"
   ]
  },
  {
   "cell_type": "code",
   "execution_count": 49,
   "id": "14cfc47b-5b59-4c37-af73-c62da7d05d41",
   "metadata": {},
   "outputs": [
    {
     "data": {
      "text/plain": [
       "[1, 3, 5, 7, 9, 13, 15, 17, 19, 21, 23, 25]"
      ]
     },
     "execution_count": 49,
     "metadata": {},
     "output_type": "execute_result"
    }
   ],
   "source": [
    "test(1,2,3,4,5,6,7,8,9,10,12,13,14,15,16,17,18,19,20,21,22,23,24,25)"
   ]
  },
  {
   "cell_type": "markdown",
   "id": "1e613fe2-3234-48cc-a828-5b9d83c2b56a",
   "metadata": {},
   "source": [
    "Q2. Why *args and **kwargs is used in some functions? Create a function each for *args and **kwargs to\n",
    "demonstrate their use.\n",
    "\n",
    "*args use for take n number of input from user in any funtion.\n",
    "**kwargs is also use for take n number of input form any user in our funtion but with the use of **kwargs which input that take it taks as a key value pair \n",
    "ex. \"name\" : \"ram\""
   ]
  },
  {
   "cell_type": "code",
   "execution_count": 50,
   "id": "fe1463f0-d84e-48df-817e-ad1a99d55895",
   "metadata": {},
   "outputs": [],
   "source": [
    "def test1(*args):\n",
    "    return args"
   ]
  },
  {
   "cell_type": "code",
   "execution_count": 51,
   "id": "dcdc048c-4d71-419f-9985-385a4daa4df6",
   "metadata": {},
   "outputs": [
    {
     "data": {
      "text/plain": [
       "(1, 2, 3, 4, 5, 6)"
      ]
     },
     "execution_count": 51,
     "metadata": {},
     "output_type": "execute_result"
    }
   ],
   "source": [
    "test1(1,2,3,4,5,6)"
   ]
  },
  {
   "cell_type": "code",
   "execution_count": 52,
   "id": "d675de40-76a4-4d8c-9b74-80a7f420832c",
   "metadata": {},
   "outputs": [],
   "source": [
    "def test2(**kwargs):\n",
    "    return kwargs"
   ]
  },
  {
   "cell_type": "code",
   "execution_count": 54,
   "id": "3ef8489f-a026-4148-9ba4-38180f6044bd",
   "metadata": {},
   "outputs": [
    {
     "data": {
      "text/plain": [
       "{'a': 23, 'b': 45}"
      ]
     },
     "execution_count": 54,
     "metadata": {},
     "output_type": "execute_result"
    }
   ],
   "source": [
    "test2(a = 23, b = 45)"
   ]
  },
  {
   "cell_type": "markdown",
   "id": "9f47adaa-c382-44dc-8e78-7baa8795589c",
   "metadata": {},
   "source": [
    "What is an iterator in python? Name the method used to initialise the iterator object and the method\n",
    "used for iteration. Use these methods to print the first five elements of the given list [2, 4, 6, 8, 10, 12, 14, 16,\n",
    "18, 20].\n",
    "\n",
    "In Python with the help of iteratot we can itrat a given data or value and list and tuple. there are meny iterator in python some inbuild funtion in it . and some loop is given by python to itrate given data,variable or list, etc.\n"
   ]
  },
  {
   "cell_type": "code",
   "execution_count": 55,
   "id": "40cd95ae-2ded-4fb9-86b5-c92d9dd8291a",
   "metadata": {},
   "outputs": [],
   "source": [
    "list = [2, 4, 6, 8, 10, 12, 14, 16,18, 20]"
   ]
  },
  {
   "cell_type": "code",
   "execution_count": 56,
   "id": "ee27ee0a-5b19-49fe-b14f-cdab5e41bb55",
   "metadata": {},
   "outputs": [
    {
     "name": "stdout",
     "output_type": "stream",
     "text": [
      "2\n",
      "4\n",
      "6\n",
      "8\n",
      "10\n",
      "12\n",
      "14\n",
      "16\n",
      "18\n",
      "20\n"
     ]
    }
   ],
   "source": [
    "for i in list:\n",
    "    print(i)"
   ]
  },
  {
   "cell_type": "markdown",
   "id": "3ab8055c-4e4d-4a6a-ada3-40e9491197f3",
   "metadata": {},
   "source": [
    "Q4. What is a generator function in python? Why yield keyword is used? Give an example of a generator\n",
    "function.\n",
    "with the use of generator function in python we can utilize memory as well as we can print data line by line.\n",
    "In simpler words, the yield keyword will convert an expression that is specified along with it to a generator object and return it to the caller.\n"
   ]
  },
  {
   "cell_type": "code",
   "execution_count": 57,
   "id": "a1a1d2a1-0cb7-4d59-ae36-9da1b68db393",
   "metadata": {},
   "outputs": [],
   "source": [
    "#fibonacci series\n",
    "def fib(n):\n",
    "    a,b = 0,1\n",
    "    for i in range(n):\n",
    "        yield a\n",
    "        a,b = b,a+b"
   ]
  },
  {
   "cell_type": "code",
   "execution_count": 58,
   "id": "c018916d-454d-45fc-b5c4-83ab5efc8a7d",
   "metadata": {},
   "outputs": [
    {
     "data": {
      "text/plain": [
       "<generator object fib at 0x7fb2f8039ee0>"
      ]
     },
     "execution_count": 58,
     "metadata": {},
     "output_type": "execute_result"
    }
   ],
   "source": [
    "fib(10)"
   ]
  },
  {
   "cell_type": "code",
   "execution_count": 62,
   "id": "9a994976-e2f2-4b38-8f3c-7fc9862b8f9a",
   "metadata": {},
   "outputs": [
    {
     "name": "stdout",
     "output_type": "stream",
     "text": [
      "0\n",
      "1\n",
      "1\n",
      "2\n",
      "3\n",
      "5\n",
      "8\n",
      "13\n",
      "21\n",
      "34\n"
     ]
    }
   ],
   "source": [
    "for i in fib(10):\n",
    "    print(i)"
   ]
  },
  {
   "cell_type": "markdown",
   "id": "bf31c011-368d-4e76-b478-037eff9e90f4",
   "metadata": {},
   "source": [
    "Q5. Create a generator function for prime numbers less than 1000. Use the next() method to print the\n",
    "first 20 prime numbers."
   ]
  },
  {
   "cell_type": "code",
   "execution_count": null,
   "id": "49000cec-2b6e-460d-b963-79f86f10320f",
   "metadata": {},
   "outputs": [],
   "source": []
  },
  {
   "cell_type": "code",
   "execution_count": null,
   "id": "ba2fb1de-7b3f-47a4-a21a-a09a83de560c",
   "metadata": {},
   "outputs": [],
   "source": []
  },
  {
   "cell_type": "code",
   "execution_count": null,
   "id": "601eb48b-632c-402d-b316-e327aef0c6d3",
   "metadata": {},
   "outputs": [],
   "source": []
  }
 ],
 "metadata": {
  "kernelspec": {
   "display_name": "Python 3 (ipykernel)",
   "language": "python",
   "name": "python3"
  },
  "language_info": {
   "codemirror_mode": {
    "name": "ipython",
    "version": 3
   },
   "file_extension": ".py",
   "mimetype": "text/x-python",
   "name": "python",
   "nbconvert_exporter": "python",
   "pygments_lexer": "ipython3",
   "version": "3.10.8"
  }
 },
 "nbformat": 4,
 "nbformat_minor": 5
}
