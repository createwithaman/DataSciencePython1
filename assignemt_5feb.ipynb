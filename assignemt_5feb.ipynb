{
 "cells": [
  {
   "cell_type": "markdown",
   "id": "4d756b99-6504-4f11-b6b8-cb10cfa30e36",
   "metadata": {},
   "source": [
    "Q1. Explain Class and Object with respect to Object-Oriented Programming. Give a suitable example.\n",
    "\n",
    "we can say that class is a core tamplate of create a object and can say class is a sturcture to make any object with the use of class we can call any time our variable and use. In python to create a class there is a reserve keyword its call \"CLASS\".\n",
    "object are nothing only they helps us to use a variable call any where.An object is created using the constructor of the class. This object will then be called the instance of the class.\n",
    "Let's Understand class with example."
   ]
  },
  {
   "cell_type": "code",
   "execution_count": 2,
   "id": "3cd0faa5-db23-4cb7-889c-6831b0e02c77",
   "metadata": {},
   "outputs": [],
   "source": [
    "class test:\n",
    "    def __init__(self, company_name, Number_Of_Employ, Product):\n",
    "        self.company_name = company_name\n",
    "        self.Number_Of_Employ = Number_Of_Employ\n",
    "        self.Product = Product\n",
    "        \n",
    "    def whole_imformation_Of_Company(self):\n",
    "        return self.company_name,self.Number_Of_Employ,self.Product\n",
    "    \n"
   ]
  },
  {
   "cell_type": "code",
   "execution_count": 5,
   "id": "c2cac33a-d7e8-4ce5-8e6e-0f0cfe8e3772",
   "metadata": {},
   "outputs": [
    {
     "data": {
      "text/plain": [
       "('Pw_Skils', 50000, 'Education')"
      ]
     },
     "execution_count": 5,
     "metadata": {},
     "output_type": "execute_result"
    }
   ],
   "source": [
    "Unicorne = test(\"Pw_Skils\"  , 50000 , \"Education\")\n",
    "Unicorne.whole_imformation_Of_Company()"
   ]
  },
  {
   "cell_type": "markdown",
   "id": "d52885df-aa37-4084-aeed-262c626e728f",
   "metadata": {},
   "source": [
    "Q2. Name the four pillars of OOPs.\n",
    "There are  four pillars of OOPS are Inheritance, Polymorphism, Encapsulation and Abstraction."
   ]
  },
  {
   "cell_type": "markdown",
   "id": "02c74e97-b5da-443a-b426-3f2a53cafa9c",
   "metadata": {},
   "source": [
    "Q3. Explain why the __init__() function is used. Give a suitable example.\n",
    "__init__ is the constructor that use to take any object in class and that is so much important in class whith the help of constructor every object take mmultiple data of input .\n",
    "Let's Understande with the example of __init__"
   ]
  },
  {
   "cell_type": "code",
   "execution_count": 8,
   "id": "f8452e53-e3ed-4483-9480-59c1b6a87d7e",
   "metadata": {},
   "outputs": [],
   "source": [
    "class Understande:\n",
    "    def __init__(self, number , Class, college):\n",
    "        self.number = number\n",
    "        self.Class = Class\n",
    "        self.college = college\n",
    "        \n",
    "    def Print_all(self):\n",
    "        return self.number,self.Class,self.college"
   ]
  },
  {
   "cell_type": "code",
   "execution_count": 10,
   "id": "ca8c760e-99e4-4cd5-8f58-b6203e47621b",
   "metadata": {},
   "outputs": [
    {
     "data": {
      "text/plain": [
       "(2583691471, '2nd', 'Govt_excellence_School')"
      ]
     },
     "execution_count": 10,
     "metadata": {},
     "output_type": "execute_result"
    }
   ],
   "source": [
    "ram = Understande(2583691471, \"2nd\", \"Govt_excellence_School\")\n",
    "ram.Print_all()"
   ]
  },
  {
   "cell_type": "markdown",
   "id": "1ccc7b01-2e2d-4fb8-a815-0a26e19ad39c",
   "metadata": {},
   "source": [
    "Q4. Why self is used in OOPs?\n",
    "Ans - self used in oops becouse , without self we cant call the inner data or value of class meens self is use to call inside the value or data or object in class, We can say self is a pointer . And in python not only self we can use any stirng and name etc use as a pointer to call inner value of class."
   ]
  },
  {
   "cell_type": "markdown",
   "id": "5c8bb827-79e8-4ca9-8af1-42af828f4fe8",
   "metadata": {},
   "source": [
    "Q5. What is inheritance? Give an example for each type of inheritance.\n",
    "Ans - In python inheritacne is a method witch can use for inherit the value from one parent class to chaild class.\n",
    "in inheritance there are 2 class divid of 1st and main class we call it parent class and main class and other 2nd is subclass and call it a child class.\n",
    "In inheritance child class use the funtion and quality of parent class so we call it the inheritance method in python.\n",
    "There are 3 main type of Inheritance.\n",
    "1. single inheritance\n",
    "2. Multilavel inheritance\n",
    "3. hararical inheritance\n"
   ]
  },
  {
   "cell_type": "code",
   "execution_count": null,
   "id": "d34dc847-fd8c-4f52-989d-0185d2e34bf9",
   "metadata": {},
   "outputs": [],
   "source": []
  }
 ],
 "metadata": {
  "kernelspec": {
   "display_name": "Python 3 (ipykernel)",
   "language": "python",
   "name": "python3"
  },
  "language_info": {
   "codemirror_mode": {
    "name": "ipython",
    "version": 3
   },
   "file_extension": ".py",
   "mimetype": "text/x-python",
   "name": "python",
   "nbconvert_exporter": "python",
   "pygments_lexer": "ipython3",
   "version": "3.10.8"
  }
 },
 "nbformat": 4,
 "nbformat_minor": 5
}
