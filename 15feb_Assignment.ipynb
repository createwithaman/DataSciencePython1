{
 "cells": [
  {
   "cell_type": "markdown",
   "id": "97f7d908-8336-4504-a0d3-3f87c3ffa058",
   "metadata": {},
   "source": [
    "Q1. What is multiprocessing in python? Why is it useful?\n",
    "Ans -  Multiprocessing in Python is a built-in package that allows the system to run multiple processes simultaneously. It will enable the breaking of applications into smaller threads that can run independently. The operating system can then allocate all these threads or processes to the processor to run them parallelly, thus improving the overall performance and efficiency.\n",
    "Performing multiple operations for a single processor becomes challenging. As the number of processes keeps increasing, the processor will have to halt the current process and move to the next, to keep them going. Thus, it will have to interrupt each task, thereby hampering the performance.\n",
    "\n",
    "Multiprocessing is useful for CPU-bound processes, such as computationally heavy tasks since it will benefit from having multiple processors; similar to how multicore computers work faster than computers with a single core."
   ]
  },
  {
   "cell_type": "markdown",
   "id": "5b57b6dd-cef6-4088-b13a-5744bf7eefef",
   "metadata": {},
   "source": [
    "Q2. What are the differences between multiprocessing and multithreading?\n",
    "Ans -  Multiprocessing: Multiprocessing is a system that has more than one or two processors. In Multiprocessing, CPUs are added for increasing computing speed of the system. Because of Multiprocessing, There are many processes are executed simultaneously\n",
    "\n",
    "Multithreading: Multithreading is a system in which multiple threads are created of a process for increasing the computing speed of the system. In multithreading, many threads of a process are executed simultaneously and process creation in multithreading is done according to economical. "
   ]
  },
  {
   "cell_type": "markdown",
   "id": "4ec3fae5-6ace-4313-84fa-74c5d171b163",
   "metadata": {},
   "source": [
    "Q3. Write a python code to create a process using the multiprocessing module."
   ]
  },
  {
   "cell_type": "code",
   "execution_count": 6,
   "id": "97f074f5-df22-44e4-89d2-0ff17cb34181",
   "metadata": {},
   "outputs": [
    {
     "name": "stdout",
     "output_type": "stream",
     "text": [
      "this Function for dispaly name\n",
      "Name : Aman Asati\n"
     ]
    }
   ],
   "source": [
    "import multiprocessing\n",
    "def name():\n",
    "    print(\"Name : Aman Asati\")\n",
    "\n",
    "if __name__==\"__main__\":\n",
    "    m = multiprocessing.Process(target=name)\n",
    "    print(\"this Function for dispaly name\")\n",
    "    m.start()\n",
    "    m.join()\n",
    "    "
   ]
  },
  {
   "cell_type": "markdown",
   "id": "7f3bf6e2-1899-45cc-a358-a0954e6b0907",
   "metadata": {},
   "source": [
    "Q4. What is a multiprocessing pool in python? Why is it used?\n",
    "\n",
    "Ans - Python multiprocessing Pool can be used for parallel execution of a function across multiple input values, distributing the input data across processes (data parallelism)."
   ]
  },
  {
   "cell_type": "code",
   "execution_count": 8,
   "id": "8bdcf15a-85dc-4833-8080-e2faa37e4b1f",
   "metadata": {},
   "outputs": [
    {
     "name": "stdout",
     "output_type": "stream",
     "text": [
      "[1, 4, 9, 16, 25, 81]\n"
     ]
    }
   ],
   "source": [
    "def squre(n):\n",
    "    return n**2\n",
    "with multiprocessing.Pool(processes=4) as pool:\n",
    "    out = pool.map(squre , [ 1,2,3,4,5,9])\n",
    "    print(out)\n",
    "    "
   ]
  },
  {
   "cell_type": "markdown",
   "id": "a0011f52-0bbc-4cca-b18e-0714052110ff",
   "metadata": {},
   "source": [
    "Q5. How can we create a pool of worker processes in python using the multiprocessing module?\n",
    "we can create a pool of worker processes in python using the multiprocessing module , let's create pool of worker processes in python with the squre program or givin numbers."
   ]
  },
  {
   "cell_type": "code",
   "execution_count": null,
   "id": "bcc5d6f8-e8d8-412a-9131-2127e884a4df",
   "metadata": {},
   "outputs": [],
   "source": [
    "def squre(n):\n",
    "    return n**2\n",
    "with multiprocessing.Pool(processes=4) as pool:\n",
    "    out = pool.map(squre , [ 1,2,23,44,45,99])\n",
    "    print(out)\n",
    "    "
   ]
  },
  {
   "cell_type": "markdown",
   "id": "87ec1d00-de8d-46bf-b4b9-5ebbded922e6",
   "metadata": {},
   "source": [
    "Q6. Write a python program to create 4 processes, each process should print a different number using the multiprocessing module in python."
   ]
  },
  {
   "cell_type": "code",
   "execution_count": 16,
   "id": "c9527207-fde1-48e4-97b6-aa108d8ca636",
   "metadata": {},
   "outputs": [
    {
     "name": "stdout",
     "output_type": "stream",
     "text": [
      "aman\n",
      "naman\n",
      "raman\n",
      "chaman\n",
      "ram\n"
     ]
    }
   ],
   "source": [
    "import multiprocessing\n",
    "def test():\n",
    "    print(\"ram\")\n",
    "def test1():\n",
    "    print(\"shiv\")\n",
    "    \n",
    "if __name__==\"__main__\":\n",
    "    m = multiprocessing.Process(target=test1)\n",
    "    print(\"aman\")\n",
    "if __name__==\"__main__\":\n",
    "    m = multiprocessing.Process(target=test)\n",
    "    print(\"naman\")\n",
    "if __name__==\"__main__\":\n",
    "    m = multiprocessing.Process(target=test)\n",
    "    print(\"raman\")\n",
    "if __name__==\"__main__\":\n",
    "    m = multiprocessing.Process(target=test)\n",
    "    print(\"chaman\")\n",
    "    m.start()\n",
    "    m.join()\n",
    "    "
   ]
  },
  {
   "cell_type": "code",
   "execution_count": null,
   "id": "fe94bc92-ddd3-4f8e-a1ce-7b70076e9f03",
   "metadata": {},
   "outputs": [],
   "source": []
  },
  {
   "cell_type": "code",
   "execution_count": null,
   "id": "c7603332-3566-428f-95fa-d08a3aa30403",
   "metadata": {},
   "outputs": [],
   "source": []
  },
  {
   "cell_type": "code",
   "execution_count": null,
   "id": "8a47c159-d5a0-41f5-a4a0-b7c69c50aeec",
   "metadata": {},
   "outputs": [],
   "source": []
  }
 ],
 "metadata": {
  "kernelspec": {
   "display_name": "Python 3 (ipykernel)",
   "language": "python",
   "name": "python3"
  },
  "language_info": {
   "codemirror_mode": {
    "name": "ipython",
    "version": 3
   },
   "file_extension": ".py",
   "mimetype": "text/x-python",
   "name": "python",
   "nbconvert_exporter": "python",
   "pygments_lexer": "ipython3",
   "version": "3.10.8"
  }
 },
 "nbformat": 4,
 "nbformat_minor": 5
}
