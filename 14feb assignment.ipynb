{
 "cells": [
  {
   "cell_type": "markdown",
   "id": "cdf7d9c7-c577-468c-a111-f44734db51e6",
   "metadata": {},
   "source": [
    "Q-what is multithreading in python? why is it used? Name the module used to handle threads in python?\n",
    "Ans-A thread is an entity within a process that can be scheduled for execution. Also, it is the smallest unit of processing that can be performed in an OS (Operating System). In simple words, a thread is a sequence of such instructions within a program that can be executed independently of other code. For simplicity, you can assume that a thread is simply a subset of a process.\n",
    "\n",
    "In python to use the threading there is  the module called threading . to use it we import threading"
   ]
  },
  {
   "cell_type": "markdown",
   "id": "15281bcd-a478-4d82-9ce2-f328e561cc67",
   "metadata": {},
   "source": [
    "Q-  Why threading module used? Write the use of the following functions\n",
    "( activeCount\n",
    " currentThread\n",
    " enumerate)\n",
    " Ans - The thread Module. This method starts a new thread and return its identifier. The thread executes the function \"function\" (function is a reference to a function) with the argument list args (which must be a list or a tuple). The optional kwargs argument specifies a dictionary of keyword arguments\n",
    "\n",
    "activeCount use to count corrently active the method in threads.\n",
    "current_thread() is an inbuilt method of the threading module in Python. It is used to return the current Thread object, which corresponds to the caller's thread of control.\n",
    "Enumerate() method adds a counter to an iterable and returns it in a form of enumerating object\n"
   ]
  },
  {
   "cell_type": "markdown",
   "id": "3baeacb1-94a7-4b96-b4ce-751b5a8018cf",
   "metadata": {},
   "source": [
    "Q3. Explain the following functions\n",
    "( run\n",
    " start\n",
    " join\n",
    "isAlive)\n",
    "The . run() method executes any target function belonging to a given thread object that is now active. It normally executes in the background after the . start() method is invoked.\n",
    "\n",
    "with the use of start we can excuate our thread\n",
    "\n",
    " join() method delays a program's flow of execution until the target thread has been completely read.\n",
    "\n",
    "is_alive() method returns True if the thread is still running and False , otherwise."
   ]
  },
  {
   "cell_type": "markdown",
   "id": "64eb820d-5247-474c-bd30-1f8a37ac4ae2",
   "metadata": {},
   "source": [
    "Q4. write a python program to create two threads. Thread one must print the list of squares and thread\n",
    "two must print the list of cubes.\n",
    "\n",
    "Let's write a python program for threads,"
   ]
  },
  {
   "cell_type": "code",
   "execution_count": 15,
   "id": "58b6d1ea-7588-42cb-91ca-a458c7d61af8",
   "metadata": {},
   "outputs": [
    {
     "name": "stdout",
     "output_type": "stream",
     "text": [
      "[1, 4, 9, 16, 25, 36, 49]\n"
     ]
    }
   ],
   "source": [
    "import multiprocessing\n",
    "def squre(n):\n",
    "    return n**2\n",
    "if __name__==\"__main__\":\n",
    "    with multiprocessing.Pool(processes=2) as pool:\n",
    "        out = pool.map(squre , [1,2,3,4,5,6,7])\n",
    "        print(out)"
   ]
  },
  {
   "cell_type": "markdown",
   "id": "62fc5f62-1634-4122-846c-0bbb5db091fc",
   "metadata": {},
   "source": [
    "5. State advantages and disadvantages of multithreading\n",
    "            //advantages of multithreading//\n",
    ". Enhanced performance by decreased development time\n",
    ". Simplified and streamlined program coding\n",
    ". Improvised GUI responsiveness\n",
    ". Simultaneous and parallelized occurrence of tasks\n",
    ". Better use of cache storage by utilization of resources\n",
    ". Decreased cost of maintenance\n",
    ". Better use of CPU resource\n",
    "            //disadvantages of multithreading//\n",
    ". Difficulty of writing code. Multithreaded and multicontexted applications are not easy to write\n",
    ". Difficulty of debugging\n",
    ". Difficulty of managing concurrency\n",
    ". Difficulty of testing\n",
    ". Difficulty of porting existing code"
   ]
  },
  {
   "cell_type": "markdown",
   "id": "69daed50-b31f-436d-9775-8dad019a5950",
   "metadata": {},
   "source": [
    "Q6. Explain deadlocks and race conditions.\n",
    "Ans - A race condition occurs when two threads use the same variable at a given time. Deadlock exists when two threads seek one lock simultaneously. This situation will stop both threads from processing or executing the functions."
   ]
  },
  {
   "cell_type": "code",
   "execution_count": 14,
   "id": "322c2bd4-10e2-4ef0-859c-68182bc04476",
   "metadata": {},
   "outputs": [
    {
     "ename": "TypeError",
     "evalue": "'int' object is not iterable",
     "output_type": "error",
     "traceback": [
      "\u001b[0;31m---------------------------------------------------------------------------\u001b[0m",
      "\u001b[0;31mTypeError\u001b[0m                                 Traceback (most recent call last)",
      "Cell \u001b[0;32mIn[14], line 1\u001b[0m\n\u001b[0;32m----> 1\u001b[0m \u001b[43mprectice\u001b[49m\u001b[43m(\u001b[49m\u001b[38;5;241;43m2\u001b[39;49m\u001b[43m)\u001b[49m\n",
      "Cell \u001b[0;32mIn[8], line 3\u001b[0m, in \u001b[0;36mprectice\u001b[0;34m(x)\u001b[0m\n\u001b[1;32m      1\u001b[0m \u001b[38;5;28;01mdef\u001b[39;00m \u001b[38;5;21mprectice\u001b[39m(x):\n\u001b[1;32m      2\u001b[0m     l \u001b[38;5;241m=\u001b[39m []\n\u001b[0;32m----> 3\u001b[0m     \u001b[38;5;28;01mfor\u001b[39;00m i \u001b[38;5;129;01min\u001b[39;00m x:\n\u001b[1;32m      4\u001b[0m         l\u001b[38;5;241m.\u001b[39mappend(i)\n",
      "\u001b[0;31mTypeError\u001b[0m: 'int' object is not iterable"
     ]
    }
   ],
   "source": []
  },
  {
   "cell_type": "markdown",
   "id": "2ca08966-47ba-4e25-8119-bb6ae905999c",
   "metadata": {},
   "source": [
    "Q5. State advantages and disadvantages of multithreading"
   ]
  },
  {
   "cell_type": "code",
   "execution_count": null,
   "id": "a1298564-5cb3-468a-82b8-baa568d43d76",
   "metadata": {},
   "outputs": [],
   "source": []
  },
  {
   "cell_type": "code",
   "execution_count": null,
   "id": "25e9e4e5-8442-4ea8-b789-f55631b3ae84",
   "metadata": {},
   "outputs": [],
   "source": []
  }
 ],
 "metadata": {
  "kernelspec": {
   "display_name": "Python 3 (ipykernel)",
   "language": "python",
   "name": "python3"
  },
  "language_info": {
   "codemirror_mode": {
    "name": "ipython",
    "version": 3
   },
   "file_extension": ".py",
   "mimetype": "text/x-python",
   "name": "python",
   "nbconvert_exporter": "python",
   "pygments_lexer": "ipython3",
   "version": "3.10.8"
  }
 },
 "nbformat": 4,
 "nbformat_minor": 5
}
