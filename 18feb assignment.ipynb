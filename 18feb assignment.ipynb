{
 "cells": [
  {
   "cell_type": "markdown",
   "id": "7bade063-cac4-48d5-a32e-851829af43da",
   "metadata": {},
   "source": [
    "Q1. What is an API? Give an example, where an API is used in real life.\n",
    "Ans = api full form  meens application programming interface. with the use of api we can inter connect with the multi language and diffrent type of fremwork esaly. \n",
    "in real life everywhere we are using api like google , google map , any shoping web site , any govt website or everywhere we are using api . api become most commen factor in our life."
   ]
  },
  {
   "cell_type": "markdown",
   "id": "7cb7c284-f9ff-47ef-8eba-c34b69342300",
   "metadata": {},
   "source": [
    "Q2. Give advantages and disadvantages of using API.\n",
    "Ans =  Disadvantages of API -\n",
    "            There is a lot of conveniences and advantages to APIs, but business leaders should also be aware of the disadvantages. As a single point of entry, an API is a gateway and can become a hacker's primary target. Once the API is compromised, all other applications and systems become vulnerable.\n",
    "\n",
    "Nine of the top ten vulnerabilities listed in the OWASP Top 10 now mention APIs — and since APIs can be accessed over the internet, they will have all the same disadvantages as any other Internet-based resource.  APIs are vulnerable to man-in-the-middle attacks, CSRF attacks, XSS attacks, SQL injection, and DDoS attacks.\n",
    "\n",
    "Advantage of API -\n",
    "        The development of APIs has enabled many business innovations and workflow efficiencies, here’s just three of the biggest benefits of using APIs:\n",
    "\n",
    "Automation\n",
    "When using an API managed by computers, less human effort is required and workflows can be easily updated to become faster and more productive. Furthermore, new content and information can be published and shared with your entire audience quickly and efficiently across all channels. \n",
    "\n",
    "Developer efficiency and innovation\n",
    "APIs empower developers to be more productive by reusing code in complex but repetitive processes. They don’t need to start from scratch as the API specifies how to assemble software components in a program. APIs exist to make it easy to interface with other developers' applications.\n",
    "\n",
    "Improved value proposition\n",
    "By using APIs made available by companies such as Amazon, Salesforce, or Twitter, an application can integrate those services into their own systems to make themselves more attractive to customers."
   ]
  },
  {
   "cell_type": "markdown",
   "id": "04737a22-250f-4289-9d97-732eb0e012f9",
   "metadata": {},
   "source": [
    "Q3. What is a Web API? Differentiate between API and Web API.\n",
    "Ans - web API is similler than API and we can say web API is the subset of API .there are little bit diffrences in api and web api meens with the use of api we can use multiple procotcal http smtp and tcp and with the use of web api we can use only http protocal ."
   ]
  },
  {
   "cell_type": "markdown",
   "id": "5cd74014-d063-4f87-938b-30338cecb147",
   "metadata": {},
   "source": [
    "Q4. Explain REST and SOAP Architecture. Mention shortcomings of SOAP.\n",
    "Ans - rest and soap both are the custructor of api it meens that with the use of rest soap we make a indviual or multi api it can be web api and normal api\n",
    "full form of rest is Representational State Transfer \n",
    "and full form of soap is simple object access protocol\n",
    "both are usefull and good but when we wanna use high security so we use soap api and when we wanna some publicy work and can say low security work we use rest protocal but it is more scable and more efficiant than soap api.\n",
    "soap is very good api constuctor and only little bit shortcomings that have one is less effician ,less scable .\n",
    "\n",
    "\n"
   ]
  },
  {
   "cell_type": "code",
   "execution_count": null,
   "id": "501acf4f-0659-41c6-b5f8-db72f6ae6a60",
   "metadata": {},
   "outputs": [],
   "source": [
    "Q5. Differentiate between REST and SOAP.\n",
    "Ans - some minnor Differentiate between REST and Soap.\n",
    "rest has more efficiency but soap less efficiency than soap\n"
   ]
  }
 ],
 "metadata": {
  "kernelspec": {
   "display_name": "Python 3 (ipykernel)",
   "language": "python",
   "name": "python3"
  },
  "language_info": {
   "codemirror_mode": {
    "name": "ipython",
    "version": 3
   },
   "file_extension": ".py",
   "mimetype": "text/x-python",
   "name": "python",
   "nbconvert_exporter": "python",
   "pygments_lexer": "ipython3",
   "version": "3.10.8"
  }
 },
 "nbformat": 4,
 "nbformat_minor": 5
}
