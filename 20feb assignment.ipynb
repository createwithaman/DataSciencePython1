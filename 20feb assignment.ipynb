{
 "cells": [
  {
   "cell_type": "markdown",
   "id": "6bf11e05-d48e-49d8-9924-6777926cb71f",
   "metadata": {},
   "source": [
    "Q1. Explain GET and POST methods.\n",
    "Ans -  Get and Post Methods\n",
    "The data sent using the get() method is retrieved on the development server. The data is obtained by using the following line of code. Here, the args is a dictionary object which contains the list of pairs of form parameter and its corresponding value.\n",
    "\n",
    "in computing, POST is a request method supported by HTTP used by the World Wide Web. By design, the POST request method requests that a web server accept the data enclosed in the body of the request message, most likely for storing it. It is often used when uploading a file or when submitting a completed web form."
   ]
  },
  {
   "cell_type": "markdown",
   "id": "e5977adb-bf56-415a-b415-253a062c9910",
   "metadata": {},
   "source": [
    "Q2. Why is request used in Flask?\n",
    "Ans - In the client-server architecture, the request object contains all the data that is sent from the client to the server.we can retrieve the data at the server side using the HTTP methods."
   ]
  },
  {
   "cell_type": "markdown",
   "id": "64a633a4-df93-451f-ab1c-4164d4bb5bac",
   "metadata": {},
   "source": [
    "Q3. Why is redirect() used in Flask?\n",
    "Ans - Flask redirect is defined as a function or utility in Flask which allows developers to redirect users to a specified URL and assign a specified status code. When this function is called, a response object is returned, and the redirection happens to the target location with the status code."
   ]
  },
  {
   "cell_type": "markdown",
   "id": "eb50510c-7217-4b41-96f0-c0a0eea6ee55",
   "metadata": {},
   "source": [
    "Q4. What are templates in Flask? Why is the render_template() function used?\n",
    "Ans - Templates are files that contain static data as well as placeholders for dynamic data. A template is rendered with specific data to produce a final document. Flask uses the Jinja template library to render templates. In your application, you will use templates to render HTML which will display in the user's browser."
   ]
  },
  {
   "cell_type": "code",
   "execution_count": null,
   "id": "7a2279e4-a6fb-40da-b53f-6b448fbf7507",
   "metadata": {},
   "outputs": [],
   "source": []
  },
  {
   "cell_type": "code",
   "execution_count": null,
   "id": "c9485726-6766-4f61-a506-1842e6361159",
   "metadata": {},
   "outputs": [],
   "source": []
  },
  {
   "cell_type": "code",
   "execution_count": null,
   "id": "aae9a0d4-1a0b-4ead-96ef-c9c6327458e5",
   "metadata": {},
   "outputs": [],
   "source": []
  }
 ],
 "metadata": {
  "kernelspec": {
   "display_name": "Python 3 (ipykernel)",
   "language": "python",
   "name": "python3"
  },
  "language_info": {
   "codemirror_mode": {
    "name": "ipython",
    "version": 3
   },
   "file_extension": ".py",
   "mimetype": "text/x-python",
   "name": "python",
   "nbconvert_exporter": "python",
   "pygments_lexer": "ipython3",
   "version": "3.10.8"
  }
 },
 "nbformat": 4,
 "nbformat_minor": 5
}
