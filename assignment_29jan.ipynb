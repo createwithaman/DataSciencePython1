{
 "cells": [
  {
   "cell_type": "markdown",
   "id": "85db72aa-537c-4ce7-9a28-65f05084501e",
   "metadata": {},
   "source": [
    "answer of 1st question -\n",
    "Guido van Rossum  was devoloped python programing language."
   ]
  },
  {
   "cell_type": "code",
   "execution_count": null,
   "id": "c43e26e1-c185-4667-86af-0dc6f72b53d0",
   "metadata": {},
   "outputs": [],
   "source": [
    "answer of 2st question -\n",
    "Python supports object oriended programming language\n"
   ]
  },
  {
   "cell_type": "code",
   "execution_count": null,
   "id": "de0d21a4-031e-4c31-9928-e88d913d33e3",
   "metadata": {},
   "outputs": [],
   "source": [
    "answer of 3st question -\n",
    "yes python is case sensitive language"
   ]
  },
  {
   "cell_type": "code",
   "execution_count": null,
   "id": "fa655e7c-aa45-4f72-a88b-aaeecd7301d1",
   "metadata": {},
   "outputs": [],
   "source": [
    "answer of 4st question -\n",
    "The correct extention of python is .py"
   ]
  },
  {
   "cell_type": "code",
   "execution_count": null,
   "id": "912a7a16-2412-4905-8784-6da386f09a70",
   "metadata": {},
   "outputs": [],
   "source": [
    "answer of 5st question -\n",
    "python code is compiled \n"
   ]
  },
  {
   "cell_type": "code",
   "execution_count": 2,
   "id": "b56ddc2c-4190-4ac6-8269-786cdef323c7",
   "metadata": {},
   "outputs": [
    {
     "name": "stdin",
     "output_type": "stream",
     "text": [
      "enter your name :  aman asati\n"
     ]
    },
    {
     "name": "stdout",
     "output_type": "stream",
     "text": [
      "aman asati\n"
     ]
    }
   ],
   "source": [
    "#answer of 6st question -\n",
    "name = input(\"enter your name : \")\n",
    "print(name)\n"
   ]
  },
  {
   "cell_type": "code",
   "execution_count": null,
   "id": "8d148998-9856-46a3-a9ed-98651fc42172",
   "metadata": {},
   "outputs": [],
   "source": [
    "answer of 7st question -\n",
    "single line comment in python used to comment any unnecerry code or line and expression \n",
    "#hy this is basic of python"
   ]
  },
  {
   "cell_type": "code",
   "execution_count": null,
   "id": "94e92025-0648-4df3-b24b-381c0aed717a",
   "metadata": {},
   "outputs": [],
   "source": [
    "answer of 8st question -\n",
    "python_version() function\n"
   ]
  },
  {
   "cell_type": "code",
   "execution_count": 11,
   "id": "61055419-fea0-471e-a01a-ce9db48392ba",
   "metadata": {},
   "outputs": [
    {
     "name": "stdout",
     "output_type": "stream",
     "text": [
      "------------------------"
     ]
    }
   ],
   "source": [
    "#answer of 9st question -\n",
    "for i in range(1,25):\n",
    "    print(\"-\",end =\"\")"
   ]
  },
  {
   "cell_type": "code",
   "execution_count": null,
   "id": "eec0b3b4-342a-44c3-a8b8-b664096461f4",
   "metadata": {},
   "outputs": [],
   "source": [
    "answer of 10th question\n",
    "pip is the standerd tool to downlode the python liberies."
   ]
  },
  {
   "cell_type": "code",
   "execution_count": null,
   "id": "3e79658b-a737-4bfc-ad19-021207f1101d",
   "metadata": {},
   "outputs": [],
   "source": [
    "answer of 11th question\n",
    "abs()\tReturns the absolute value of a number\n",
    "all()\tReturns True if all items in an iterable object are true\n",
    "any()\tReturns True if any item in an iterable object is true\n",
    "ascii()\tReturns a readable version of an object. Replaces none-ascii characters with escape character\n",
    "bin()\tReturns the binary version of a number\n",
    "bool()\tReturns the boolean value of the specified object\n",
    "bytearray()\tReturns an array of bytes\n",
    "bytes()\tReturns a bytes object\n",
    "callable()\tReturns True if the specified object is callable, otherwise False\n",
    "chr()\tReturns a character from the specified Unicode code.\n",
    "classmethod()\tConverts a method into a class method\n",
    "compile()\tReturns the specified source as an object, ready to be executed\n",
    "complex()\tReturns a complex number\n",
    "delattr()\tDeletes the specified attribute (property or method) from the specified object\n",
    "dict()\tReturns a dictionary (Array)\n",
    "dir()\tReturns a list of the specified object's properties and methods\n",
    "divmod()\tReturns the quotient and the remainder when argument1 is divided by argument2\n",
    "enumerate()\tTakes a collection (e.g. a tuple) and returns it as an enumerate object\n",
    "eval()\tEvaluates and executes an expression\n",
    "exec()\tExecutes the specified code (or object)\n",
    "filter()\tUse a filter function to exclude items in an iterable object\n",
    "float()\tReturns a floating point number\n",
    "format()\tFormats a specified value\n",
    "frozenset()\tReturns a frozenset object\n",
    "getattr()\tReturns the value of the specified attribute (property or method)\n",
    "globals()\tReturns the current global symbol table as a dictionary\n",
    "hasattr()\tReturns True if the specified object has the specified attribute (property/method)\n",
    "hash()\tReturns the hash value of a specified object\n",
    "help()\tExecutes the built-in help system\n",
    "hex()\tConverts a number into a hexadecimal value\n",
    "id()\tReturns the id of an object\n",
    "input()\tAllowing user input\n",
    "int()\tReturns an integer number\n",
    "isinstance()\tReturns True if a specified object is an instance of a specified object\n",
    "issubclass()\tReturns True if a specified class is a subclass of a specified object\n",
    "iter()\tReturns an iterator object\n",
    "len()\tReturns the length of an object\n",
    "list()\tReturns a list\n",
    "locals()\tReturns an updated dictionary of the current local symbol table\n",
    "map()\tReturns the specified iterator with the specified function applied to each item\n",
    "max()\tReturns the largest item in an iterable\n",
    "memoryview()\tReturns a memory view object\n",
    "min()\tReturns the smallest item in an iterable\n",
    "next()\tReturns the next item in an iterable\n",
    "object()\tReturns a new object\n",
    "oct()\tConverts a number into an octal\n",
    "open()\tOpens a file and returns a file object\n",
    "ord()\tConvert an integer representing the Unicode of the specified character\n",
    "pow()\tReturns the value of x to the power of y\n",
    "print()\tPrints to the standard output device\n",
    "property()\tGets, sets, deletes a property\n",
    "range()\tReturns a sequence of numbers, starting from 0 and increments by 1 (by default)\n",
    "repr()\tReturns a readable version of an object\n",
    "reversed()\tReturns a reversed iterator\n",
    "round()\tRounds a numbers\n",
    "set()\tReturns a new set object\n",
    "setattr()\tSets an attribute (property/method) of an object\n",
    "slice()\tReturns a slice object\n",
    "sorted()\tReturns a sorted list\n",
    "staticmethod()\tConverts a method into a static method\n",
    "str()\tReturns a string object\n",
    "sum()\tSums the items of an iterator\n",
    "super()\tReturns an object that represents the parent class\n",
    "tuple()\tReturns a tuple\n",
    "type()\tReturns the type of an object"
   ]
  },
  {
   "cell_type": "markdown",
   "id": "138477b6-e2d4-4a17-bea4-1cbbebaf0da5",
   "metadata": {},
   "source": [
    "answer of 12th question\n",
    "An identifier can have a maximum length of 79 characters in Python."
   ]
  },
  {
   "cell_type": "code",
   "execution_count": null,
   "id": "fe9ce661-e664-440d-a3d1-324ffa566b0b",
   "metadata": {},
   "outputs": [],
   "source": [
    "answer of 13th question\n",
    "Simple to Use and Understand. For newcomers, Python is simple to understand and use.\n",
    "Free and Open-Source. Video Player is loading.\n",
    "Productivity has Increased.\n",
    "Interpreted Language.\n",
    "Extensive library.\n",
    "Dynamically Typed.\n",
    "Portability\n",
    "Supportive community"
   ]
  },
  {
   "cell_type": "markdown",
   "id": "761eb2df-ef3e-43e6-8654-abca1abe4ef4",
   "metadata": {},
   "source": [
    "answer of 14th question\n",
    "Memory management in Python involves a private heap containing all Python objects and data structures. The management of this private heap is ensured internally by the Python memory manager.\n"
   ]
  },
  {
   "cell_type": "code",
   "execution_count": null,
   "id": "3480dec7-54bd-46fb-9735-fd634684fd43",
   "metadata": {},
   "outputs": [],
   "source": [
    "answer of 15th question\n",
    "1st go and google it python idle and open 1st link and install and open it and install in our pc"
   ]
  },
  {
   "cell_type": "code",
   "execution_count": null,
   "id": "bccab5ba-4280-4097-bc3a-279608f9d4ab",
   "metadata": {},
   "outputs": [],
   "source": [
    "answer of 16th question\n",
    "yes indentation is very mmuch required in pyhton . when we "
   ]
  },
  {
   "cell_type": "code",
   "execution_count": null,
   "id": "ef87975f-9808-4bba-9a9b-6e6ac54e895b",
   "metadata": {},
   "outputs": [],
   "source": []
  },
  {
   "cell_type": "code",
   "execution_count": null,
   "id": "a4a998df-18e8-421b-b583-a8aab6fca1bc",
   "metadata": {},
   "outputs": [],
   "source": []
  },
  {
   "cell_type": "code",
   "execution_count": null,
   "id": "4bac9cab-33b8-4014-a4d1-240aa746c321",
   "metadata": {},
   "outputs": [],
   "source": []
  },
  {
   "cell_type": "code",
   "execution_count": null,
   "id": "0d3a854c-70d6-45f2-9351-4b948a32b86d",
   "metadata": {},
   "outputs": [],
   "source": []
  },
  {
   "cell_type": "code",
   "execution_count": null,
   "id": "b282d00d-c086-4bed-9639-6dfde4892b15",
   "metadata": {},
   "outputs": [],
   "source": []
  },
  {
   "cell_type": "code",
   "execution_count": null,
   "id": "7936ef7e-0bea-4085-84b8-c5a2617d3aa2",
   "metadata": {},
   "outputs": [],
   "source": []
  },
  {
   "cell_type": "code",
   "execution_count": null,
   "id": "11045b5a-87e3-4439-8cb3-b7aed1864418",
   "metadata": {},
   "outputs": [],
   "source": []
  },
  {
   "cell_type": "code",
   "execution_count": null,
   "id": "f3765718-0f0f-44af-8097-2e99cf5d67f8",
   "metadata": {},
   "outputs": [],
   "source": []
  },
  {
   "cell_type": "code",
   "execution_count": null,
   "id": "7d9ef209-f883-4994-b5e1-7b51a31520bb",
   "metadata": {},
   "outputs": [],
   "source": []
  },
  {
   "cell_type": "code",
   "execution_count": null,
   "id": "730c8e8d-e366-4a2d-9ffc-72f9d691345f",
   "metadata": {},
   "outputs": [],
   "source": []
  },
  {
   "cell_type": "code",
   "execution_count": null,
   "id": "1447905a-1eff-4a77-8cb9-3f719ec19807",
   "metadata": {},
   "outputs": [],
   "source": []
  },
  {
   "cell_type": "code",
   "execution_count": null,
   "id": "6aec7bee-5e8b-406e-8b77-40ba9b409a36",
   "metadata": {},
   "outputs": [],
   "source": []
  },
  {
   "cell_type": "code",
   "execution_count": null,
   "id": "eaaed23f-2c5e-4deb-9ac9-62213a22ec98",
   "metadata": {},
   "outputs": [],
   "source": []
  },
  {
   "cell_type": "code",
   "execution_count": null,
   "id": "ccaa35f8-8953-4d4c-8d18-7bf45baff393",
   "metadata": {},
   "outputs": [],
   "source": []
  },
  {
   "cell_type": "code",
   "execution_count": null,
   "id": "5a2f3192-7ea5-4b13-89e7-c457799811a1",
   "metadata": {},
   "outputs": [],
   "source": []
  },
  {
   "cell_type": "code",
   "execution_count": null,
   "id": "dd4df5ba-14bc-4ce1-bae6-12d43b7baf7b",
   "metadata": {},
   "outputs": [],
   "source": []
  },
  {
   "cell_type": "code",
   "execution_count": null,
   "id": "0d439ab1-a9c3-47fb-8909-3bd800f6730e",
   "metadata": {},
   "outputs": [],
   "source": []
  }
 ],
 "metadata": {
  "kernelspec": {
   "display_name": "Python 3 (ipykernel)",
   "language": "python",
   "name": "python3"
  },
  "language_info": {
   "codemirror_mode": {
    "name": "ipython",
    "version": 3
   },
   "file_extension": ".py",
   "mimetype": "text/x-python",
   "name": "python",
   "nbconvert_exporter": "python",
   "pygments_lexer": "ipython3",
   "version": "3.10.8"
  }
 },
 "nbformat": 4,
 "nbformat_minor": 5
}
