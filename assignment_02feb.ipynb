{
 "cells": [
  {
   "cell_type": "markdown",
   "id": "d694b675-2156-4468-a3bb-5f398d447383",
   "metadata": {},
   "source": [
    "//characteristics of tuples? is tuple are immutable?\n",
    "They are indexed.\n",
    "Tuples are ordered.\n",
    "These are immutable.\n",
    "They can contain duplicate items.\n",
    "\n",
    "tuple are orderd collection of elements of diffrent type of data type. we can difine tuple as a list that can not be change.There For we can call it is immuatable tuple.\n"
   ]
  },
  {
   "cell_type": "markdown",
   "id": "647eefd7-b305-4649-aee8-8526a9517b51",
   "metadata": {},
   "source": [
    "Q2. What are the two tuple methods in python? Give an example of each method. Give a reason why\n",
    "tuples have only two in-built methods as compared to Lists.\n",
    "\n",
    "in python tuple are immutable meaning you cannt change any data or itam once you assignd in it.\n",
    "There are only two method in tuple.\n",
    "count(),index()\n",
    "\n"
   ]
  },
  {
   "cell_type": "code",
   "execution_count": 23,
   "id": "3d65bcfe-c0db-4c53-b1c8-d1eae8fa7eed",
   "metadata": {},
   "outputs": [
    {
     "name": "stdout",
     "output_type": "stream",
     "text": [
      "there are : 6 in given tuple  \n",
      "Index of given tuple is : 8\n"
     ]
    }
   ],
   "source": [
    "\"EXAMPLE\"\n",
    "tup = (1,2,3,3,3,5,5,5,4,2,7,8,5,6,5,4,5,6,7)\n",
    "\"\"\"use of both inbuild funtion of tuple\"\"\"\n",
    "five =tup.count(5)\n",
    "print(\"there are : {} in given tuple  \".format(five))\n",
    "index = tup.index(4)\n",
    "print(\"Index of given tuple is :\",index)\n"
   ]
  },
  {
   "cell_type": "markdown",
   "id": "f55805c8-c149-45c0-b79b-7534a47dd2ac",
   "metadata": {},
   "source": [
    "Q3. Which collection datatypes in python do not allow duplicate items? Write a code using a set to remove\n",
    "duplicates from the given list.\n",
    "List = [1, 1, 1, 2, 1, 3, 1, 4, 2, 1, 2, 2, 2, 3, 2, 4, 3, 1, 3, 2, 3, 3, 3, 4, 4, 1, 4, 2, 4, 3, 4, 4]\n",
    "\n",
    "in python set is not allow duplicate data type.\n"
   ]
  },
  {
   "cell_type": "code",
   "execution_count": 3,
   "id": "f647daf0-462b-4321-be9f-b518421d36e7",
   "metadata": {},
   "outputs": [
    {
     "name": "stdout",
     "output_type": "stream",
     "text": [
      "{1, 2, 3, 4}\n"
     ]
    }
   ],
   "source": [
    "List = [1, 1, 1, 2, 1, 3, 1, 4, 2, 1, 2, 2, 2, 3, 2, 4, 3, 1, 3, 2, 3, 3, 3, 4, 4, 1, 4, 2, 4, 3, 4, 4]\n",
    "list1 = set(List)\n",
    "print(list1)"
   ]
  },
  {
   "cell_type": "markdown",
   "id": "3cfcd5f9-e79c-45ee-9e82-2786161d1479",
   "metadata": {},
   "source": [
    "Q5. What is a dictionary? Give an example. Also, state whether a dictionary is ordered or unordered.\n",
    "\n",
    "dictionary is the group of unic collection of data type. dictionary  allow only unic aliment of data in it. in dictionary there are many key pair are in it . \n",
    "dictionary is orderd . and do not allow the duplicate key value pairs."
   ]
  },
  {
   "cell_type": "code",
   "execution_count": 14,
   "id": "153d4f0e-1fb7-4b2b-a668-389b2caf0280",
   "metadata": {},
   "outputs": [
    {
     "name": "stdout",
     "output_type": "stream",
     "text": [
      "{' name ': 'ram', 'class': 'B tach', 'phone': '8984738367'}\n"
     ]
    }
   ],
   "source": [
    "dicc = { \" name \" : \"ram\", \"class\" : \"B tach\" , \"phone\" : \"8984738367\"}\n",
    "print(dicc)"
   ]
  },
  {
   "cell_type": "markdown",
   "id": "a9752cca-e336-41c3-b374-756a63147c5b",
   "metadata": {},
   "source": [
    "Q6. Can we create a nested dictionary? If so, please give an example by creating a simple one-level\n",
    "nested dictionary.\n",
    "yes we can create a nested dictionary. lets understande by example"
   ]
  },
  {
   "cell_type": "code",
   "execution_count": 19,
   "id": "1f2d1c78-d1df-4ae6-bd33-17305fdd91fa",
   "metadata": {},
   "outputs": [
    {
     "name": "stdout",
     "output_type": "stream",
     "text": [
      "{'name': {'sername': 'ahuja', '2nd sername': 'modi'}, 'Number': {'ajay': '9089779', 'ram': '9879879'}}\n"
     ]
    }
   ],
   "source": [
    "dic = {\"name\" : { \"sername\" : \"ahuja\",\"2nd sername\" : \"modi\" } , \"Number\" : {\"ajay\" : \"9089779\" ,\"ram\" : \"9879879\"}}\n",
    "print(dic)"
   ]
  },
  {
   "cell_type": "markdown",
   "id": "30c75c5f-d48d-4415-a04b-a850e8571944",
   "metadata": {},
   "source": [
    "Q7. Using setdefault() method, create key named topics in the given dictionary and also add the value of\n",
    "the key as this list ['Python', 'Machine Learning’, 'Deep Learning']\n",
    "dict1 = {'language' : 'Python', 'course': 'Data Science Masters'}"
   ]
  },
  {
   "cell_type": "code",
   "execution_count": 20,
   "id": "f176d5a3-d279-463c-bc9a-9be4732d71c9",
   "metadata": {},
   "outputs": [],
   "source": [
    "dict1 = {'language' : 'Python', 'course': 'Data Science Masters'}"
   ]
  },
  {
   "cell_type": "code",
   "execution_count": 30,
   "id": "93adb480-4afd-49cc-90f7-fd4f5af08b31",
   "metadata": {},
   "outputs": [
    {
     "data": {
      "text/plain": [
       "'sita'"
      ]
     },
     "execution_count": 30,
     "metadata": {},
     "output_type": "execute_result"
    }
   ],
   "source": [
    "dict1.setdefault(\"ram\",\"sita\")"
   ]
  },
  {
   "cell_type": "code",
   "execution_count": 31,
   "id": "348db0ba-cb0f-4b7d-a894-e273205e30a9",
   "metadata": {},
   "outputs": [
    {
     "data": {
      "text/plain": [
       "{'language': 'Python', 'course': 'Data Science Masters', 'ram': 'sita'}"
      ]
     },
     "execution_count": 31,
     "metadata": {},
     "output_type": "execute_result"
    }
   ],
   "source": [
    "dict1"
   ]
  },
  {
   "cell_type": "code",
   "execution_count": null,
   "id": "74c9004f-9a94-4af7-a627-e5f328dfcd81",
   "metadata": {},
   "outputs": [],
   "source": []
  }
 ],
 "metadata": {
  "kernelspec": {
   "display_name": "Python 3 (ipykernel)",
   "language": "python",
   "name": "python3"
  },
  "language_info": {
   "codemirror_mode": {
    "name": "ipython",
    "version": 3
   },
   "file_extension": ".py",
   "mimetype": "text/x-python",
   "name": "python",
   "nbconvert_exporter": "python",
   "pygments_lexer": "ipython3",
   "version": "3.10.8"
  }
 },
 "nbformat": 4,
 "nbformat_minor": 5
}
