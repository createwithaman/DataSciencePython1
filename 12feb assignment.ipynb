{
 "cells": [
  {
   "cell_type": "markdown",
   "id": "fd450556-19a8-4d52-9151-780ee318e6a1",
   "metadata": {},
   "source": [
    "Q1. What is an Exception in python? Write the difference between Exceptions and syntax errors.\n",
    "\n",
    "Exception in python - Exception are the method which with the use we can run our code with error it meens that if we have a multiline code and is there in any line there is a problem or error in code so in normaly we cant exucate our code and we get a error and after that error or incorrect line code we cant run our correct code afer error code . so remove this problem we use Exception with the use of exception we can skip the line of code that making error in our program and we can runn our correct code line after the error of code line .\n",
    "\n",
    "The major diffrence between error and exception - when we write a program so if we get normal error so error says us 1st that mistake you created solve it than after do programing .\n",
    "and with use of exception we can skip that problem and continue run our code.\n"
   ]
  },
  {
   "cell_type": "markdown",
   "id": "6396117d-a2f8-4449-af79-c3a7032db871",
   "metadata": {},
   "source": [
    "Q2. What happens when an exception is not handled? Explain withan example\n",
    "\n",
    "When an exception occurred, if you don't handle it, the program terminates abruptly and the code past the line that caused the exception will not get executed.\n",
    "\n"
   ]
  },
  {
   "cell_type": "markdown",
   "id": "06a4c57f-e183-49fa-8291-b46770c5cac3",
   "metadata": {},
   "source": [
    "Q3. Which Python statements are used to catch and handle exceptions? Explain with an example\n",
    "try and except block are used to catch and hadle the exceptions."
   ]
  },
  {
   "cell_type": "code",
   "execution_count": 9,
   "id": "e8cbf8ea-756a-4d20-9720-8b2b119e7ca7",
   "metadata": {},
   "outputs": [],
   "source": [
    "try:\n",
    "    f = (\"tex4.txt\", \"r\")\n",
    "except Exception as e:\n",
    "    print(\"sorry budy you type wrong code\",e)"
   ]
  },
  {
   "cell_type": "code",
   "execution_count": 12,
   "id": "4478ad36-8329-44a6-adce-f989ce8c5944",
   "metadata": {},
   "outputs": [],
   "source": [
    "try:\n",
    "    f = open(\"ram.txt\" , \"r\")\n",
    "except Exception as e:\n",
    "    print(\"sorry buddy this is mistake that you did\" , e)\n",
    "    "
   ]
  },
  {
   "cell_type": "markdown",
   "id": "448e25c6-ee3c-48ca-a674-0dca1e8d79f9",
   "metadata": {},
   "source": [
    "#Answer of 4th question\n",
    "a try and else\n",
    "b finally\n",
    "c raise"
   ]
  },
  {
   "cell_type": "code",
   "execution_count": 35,
   "id": "faadd4a8-a2db-4bf2-9fc2-5a397909544d",
   "metadata": {},
   "outputs": [],
   "source": [
    "class vailidage(Exception):\n",
    "    def __init__(self,msg):\n",
    "        self.msg = msg"
   ]
  },
  {
   "cell_type": "code",
   "execution_count": 36,
   "id": "692a8f3f-4b4e-482a-a373-ceb780925989",
   "metadata": {},
   "outputs": [],
   "source": [
    "def vailid_age(age):\n",
    "    if age<0:\n",
    "        raise vailidage(\"sorry sir age can not be lessor than zero\")\n",
    "    elif age>200:\n",
    "        raise vailidage(\"age is too high it is not possible\")\n",
    "    else:\n",
    "        (\"good you enterd vailid age\")\n",
    "    "
   ]
  },
  {
   "cell_type": "code",
   "execution_count": 39,
   "id": "73a596cd-8b1b-4430-818d-0c75a5766d1c",
   "metadata": {},
   "outputs": [
    {
     "name": "stdin",
     "output_type": "stream",
     "text": [
      "plzz enter your age sir :  45\n"
     ]
    }
   ],
   "source": [
    "try:\n",
    "    age = int(input(\"plzz enter your age sir : \"))\n",
    "    vailid_age(age)\n",
    "except vailidage as e:\n",
    "    print(e)"
   ]
  }
 ],
 "metadata": {
  "kernelspec": {
   "display_name": "Python 3 (ipykernel)",
   "language": "python",
   "name": "python3"
  },
  "language_info": {
   "codemirror_mode": {
    "name": "ipython",
    "version": 3
   },
   "file_extension": ".py",
   "mimetype": "text/x-python",
   "name": "python",
   "nbconvert_exporter": "python",
   "pygments_lexer": "ipython3",
   "version": "3.10.8"
  }
 },
 "nbformat": 4,
 "nbformat_minor": 5
}
