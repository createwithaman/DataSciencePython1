{
 "cells": [
  {
   "cell_type": "markdown",
   "id": "5ddac969-4b08-47d4-a5a1-e424c5d520a3",
   "metadata": {},
   "source": [
    "Q1. Which function is used to open a file? What are the different modes of opening a file? Explain each mode\n",
    "of file opening.\n",
    "\n",
    "hare there are basic two funtion to open a file.\n",
    "main is f = open(\"Give_Name_Of_File\" , \"open it in mode \"r\" \"w\" etc \"a\")\n",
    "and 2nd - with open(\"Give_Name_Of_File\" , \"open it in mode \"r\" \"w\" etc \"a\") as f:\n",
    "        pass\n",
    "lets understand file opninng with exapmle"
   ]
  },
  {
   "cell_type": "code",
   "execution_count": 1,
   "id": "4c76e987-f58c-4738-b449-58b9b2e781e4",
   "metadata": {},
   "outputs": [],
   "source": [
    "f = open(\"assignment_file.txt\" , \"w\")"
   ]
  },
  {
   "cell_type": "code",
   "execution_count": 5,
   "id": "788a15ff-a275-4150-a088-28bb5e7eb96d",
   "metadata": {},
   "outputs": [],
   "source": [
    "with open(\"assignment1_file.txt\" , \"w\") as f:\n",
    "    pass"
   ]
  },
  {
   "cell_type": "markdown",
   "id": "4114025e-70ec-48f2-87c3-ba1e4d4d30ee",
   "metadata": {},
   "source": [
    "Q2. Why close() function is used? Why is it important to close a file?\n",
    "close() funtion is usee for close our file without close() funtion we cannt close our  file and cannt asecc tha inner data of our file.\n",
    " so for get and read data there is so much important to close() file."
   ]
  },
  {
   "cell_type": "markdown",
   "id": "c849c730-64b3-4556-a454-a55090050d22",
   "metadata": {},
   "source": [
    "Q3. Write a python program to create a text file. Write ‘I want to become a Data Scientist’ in that file. Then\n",
    "close the file. Open this file and read the content of the file.\n"
   ]
  },
  {
   "cell_type": "code",
   "execution_count": 16,
   "id": "d85959af-d130-42c5-a020-c17402085038",
   "metadata": {},
   "outputs": [],
   "source": [
    "f = open(\"text_file.txt\" , \"w\")"
   ]
  },
  {
   "cell_type": "code",
   "execution_count": 17,
   "id": "cb418bc3-b069-4f17-9976-6e530b7be92c",
   "metadata": {},
   "outputs": [
    {
     "data": {
      "text/plain": [
       "33"
      ]
     },
     "execution_count": 17,
     "metadata": {},
     "output_type": "execute_result"
    }
   ],
   "source": [
    "f.write(\"i want to become a Data Scientise\")"
   ]
  },
  {
   "cell_type": "code",
   "execution_count": 18,
   "id": "9c8824ab-1d59-4c62-a6b2-fba42f76c62f",
   "metadata": {},
   "outputs": [],
   "source": [
    "f.close()\n"
   ]
  },
  {
   "cell_type": "code",
   "execution_count": 19,
   "id": "0adba8f5-119d-4cdf-b0e0-3b8e45f2ac21",
   "metadata": {},
   "outputs": [],
   "source": [
    "data = open(\"text_file.txt\" , \"r\")"
   ]
  },
  {
   "cell_type": "code",
   "execution_count": 20,
   "id": "9ba5b77e-756f-4b0f-8f3a-933d160ae66c",
   "metadata": {},
   "outputs": [
    {
     "data": {
      "text/plain": [
       "'i want to become a Data Scientise'"
      ]
     },
     "execution_count": 20,
     "metadata": {},
     "output_type": "execute_result"
    }
   ],
   "source": [
    "data.read()"
   ]
  },
  {
   "cell_type": "markdown",
   "id": "9518a670-1e8f-4bfd-a70a-c67cfe8c3d87",
   "metadata": {},
   "source": [
    "Q4. Explain the following with python code: read(), readline() and readlines().\n"
   ]
  },
  {
   "cell_type": "markdown",
   "id": "9d6ee222-0331-4164-8f19-b709d9725554",
   "metadata": {},
   "source": [
    "Q5. Explain why with statement is used with open(). What is the advantage of using with statement and\n",
    "open() together?\n",
    "\n",
    "Using with means that the file will be closed as soon as you leave the block. This is beneficial because closing a file is something that can easily be forgotten and ties up resources that you no longer need\n",
    "            The with statement works with the open() function to open a file. Unlike open() where you have to close the file with the close() method, the with statement closes the file for you without you telling it to. This is because the with statement calls 2 built-in methods behind the scene – __enter()__ and __exit()__ ."
   ]
  },
  {
   "cell_type": "markdown",
   "id": "bcb9063a-291f-4bde-b352-ef94ef02f846",
   "metadata": {},
   "source": [
    "Q6. Explain the write() and writelines() functions. Give a suitable example.\n",
    "with the using write() funtion we can write and give the input in our file.\n"
   ]
  },
  {
   "cell_type": "code",
   "execution_count": 22,
   "id": "a67e9916-65b6-4044-bb7f-8038dd2d7539",
   "metadata": {},
   "outputs": [],
   "source": [
    "#Example\n",
    "f = open(\"example.txt\" , \"w\")"
   ]
  },
  {
   "cell_type": "code",
   "execution_count": 23,
   "id": "b1c47381-5ec0-4fb2-b263-e74e7a6583c2",
   "metadata": {},
   "outputs": [
    {
     "data": {
      "text/plain": [
       "121"
      ]
     },
     "execution_count": 23,
     "metadata": {},
     "output_type": "execute_result"
    }
   ],
   "source": [
    "#Now using of write funtion\n",
    "f.write(\"hy i am bigginer of programming so that mistake i have done yet and i will done during upcoming video so plzz forgive me.\")"
   ]
  },
  {
   "cell_type": "code",
   "execution_count": null,
   "id": "357efddd-fecd-4320-b942-adc984a109de",
   "metadata": {},
   "outputs": [],
   "source": []
  },
  {
   "cell_type": "code",
   "execution_count": null,
   "id": "45e94c87-fd3f-4234-90cc-a77479bda839",
   "metadata": {},
   "outputs": [],
   "source": []
  }
 ],
 "metadata": {
  "kernelspec": {
   "display_name": "Python 3 (ipykernel)",
   "language": "python",
   "name": "python3"
  },
  "language_info": {
   "codemirror_mode": {
    "name": "ipython",
    "version": 3
   },
   "file_extension": ".py",
   "mimetype": "text/x-python",
   "name": "python",
   "nbconvert_exporter": "python",
   "pygments_lexer": "ipython3",
   "version": "3.10.8"
  }
 },
 "nbformat": 4,
 "nbformat_minor": 5
}
