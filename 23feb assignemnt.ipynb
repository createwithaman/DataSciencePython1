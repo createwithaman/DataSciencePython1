{
 "cells": [
  {
   "cell_type": "markdown",
   "id": "3eae0a0a-de23-490b-92ca-8297779855c3",
   "metadata": {},
   "source": [
    "Q1. Create a Pandas Series that contains the following data: 4, 8, 15, 16, 23, and 42. Then, print the series."
   ]
  },
  {
   "cell_type": "code",
   "execution_count": 2,
   "id": "3727e1e4-0870-45ba-9ae7-9e8fff52537e",
   "metadata": {},
   "outputs": [],
   "source": [
    "import pandas as pd"
   ]
  },
  {
   "cell_type": "code",
   "execution_count": 9,
   "id": "980a55ce-e35f-46af-a61d-90713b8a2452",
   "metadata": {},
   "outputs": [],
   "source": [
    "data = [4,8,15,16,23,42]"
   ]
  },
  {
   "cell_type": "code",
   "execution_count": 23,
   "id": "1fc547bd-3322-4a96-9f6e-18cbe6c0bf2d",
   "metadata": {},
   "outputs": [],
   "source": [
    "my_serise = pd.Series(data)"
   ]
  },
  {
   "cell_type": "code",
   "execution_count": 24,
   "id": "1866266a-e5bf-48b6-b507-c36a9eb2de7e",
   "metadata": {},
   "outputs": [
    {
     "data": {
      "text/plain": [
       "0     4\n",
       "1     8\n",
       "2    15\n",
       "3    16\n",
       "4    23\n",
       "5    42\n",
       "dtype: int64"
      ]
     },
     "execution_count": 24,
     "metadata": {},
     "output_type": "execute_result"
    }
   ],
   "source": [
    "my_serise"
   ]
  },
  {
   "cell_type": "markdown",
   "id": "66b4baae-4dd3-426c-960b-04770bdfc4bc",
   "metadata": {},
   "source": [
    "Q2. Create a variable of list type containing 10 elements in it, and apply pandas.Series function on the\n",
    "variable print it."
   ]
  },
  {
   "cell_type": "code",
   "execution_count": 25,
   "id": "f50c2d93-0d37-4bd6-b872-16c0ea585880",
   "metadata": {},
   "outputs": [
    {
     "name": "stdout",
     "output_type": "stream",
     "text": [
      "0     1\n",
      "1     2\n",
      "2     3\n",
      "3     4\n",
      "4     5\n",
      "5     6\n",
      "6     7\n",
      "7     8\n",
      "8     9\n",
      "9    10\n",
      "dtype: int64\n"
     ]
    }
   ],
   "source": [
    "test = [1,2,3,4,5,6,7,8,9,10]\n",
    "serise_test1 = pd.Series(test)\n",
    "print(serise_test1)"
   ]
  },
  {
   "cell_type": "markdown",
   "id": "0cd81e23-21cb-462a-9766-62f95a249345",
   "metadata": {},
   "source": [
    "Q3. Create a Pandas DataFrame that contains the following data:\n",
    "\n",
    "Then, print the DataFrame.\n"
   ]
  },
  {
   "cell_type": "code",
   "execution_count": 20,
   "id": "2d485872-4cef-435f-9823-ac79086ba9fa",
   "metadata": {},
   "outputs": [],
   "source": [
    "my_data = { \"name\" : [ \"alice\", \"bob\" , \"claire\"],\n",
    "           \"age\" : [ 25,30,27],\n",
    "           \"gender\" : [\"female\", \"male\" , \"female\"]\n",
    "          }"
   ]
  },
  {
   "cell_type": "code",
   "execution_count": 28,
   "id": "63f2ed29-c5b9-49f8-a636-37fee6a79f98",
   "metadata": {},
   "outputs": [
    {
     "name": "stdout",
     "output_type": "stream",
     "text": [
      "     name  age  gender\n",
      "0   alice   25  female\n",
      "1     bob   30    male\n",
      "2  claire   27  female\n"
     ]
    }
   ],
   "source": [
    "show_data = pd.DataFrame(my_data)\n",
    "print(show_data)"
   ]
  },
  {
   "cell_type": "markdown",
   "id": "49614991-7b43-432e-816d-0dbc7afc2a31",
   "metadata": {},
   "source": [
    "Q4. What is ‘DataFrame’ in pandas and how is it different from pandas.series? Explain with an example."
   ]
  },
  {
   "cell_type": "code",
   "execution_count": 31,
   "id": "1016363d-be2d-4491-acf2-6a8fb6752415",
   "metadata": {},
   "outputs": [],
   "source": [
    "#lets Understand with example\n",
    "d1 = {\"name\" : [\"ram\",\"sita\",\"lakshman\"],\n",
    "      \"age\" : [ 34,56,45],\n",
    "      \"live\" : [ \"mumbai\" , \"ahemdabad\" , \"chennai\"]\n",
    "     }"
   ]
  },
  {
   "cell_type": "code",
   "execution_count": 33,
   "id": "720acf3f-3679-4cbf-a42b-7a7dc627d568",
   "metadata": {},
   "outputs": [
    {
     "name": "stdout",
     "output_type": "stream",
     "text": [
      "name           [ram, sita, lakshman]\n",
      "age                     [34, 56, 45]\n",
      "live    [mumbai, ahemdabad, chennai]\n",
      "dtype: object\n",
      "       name  age       live\n",
      "0       ram   34     mumbai\n",
      "1      sita   56  ahemdabad\n",
      "2  lakshman   45    chennai\n"
     ]
    }
   ],
   "source": [
    "#use with serise\n",
    "d1_serise = pd.Series(d1)\n",
    "print(d1_serise)\n",
    "#use with datafreme\n",
    "datafream_d1 = pd.DataFrame(d1)\n",
    "print(datafream_d1)"
   ]
  },
  {
   "cell_type": "markdown",
   "id": "0defcfb6-00ca-44b5-9636-85dbb802cbac",
   "metadata": {},
   "source": [
    "Q5. What are some common functions you can use to manipulate data in a Pandas DataFrame? Can\n",
    "you give an example of when you might use one of these functions?\n",
    "Ans - there are meny function with help we can manipulate data in pandas .\n",
    "pandas consider as pd\n",
    "pd.Series()\n",
    "d1.appand()\n",
    "df.drop()\n",
    "df.loc()\n",
    "df.iloc()\n",
    "pd.head()\n",
    "pd.tail()\n",
    "df.fillna()"
   ]
  },
  {
   "cell_type": "markdown",
   "id": "7b503f7f-e62e-47b6-a05f-8628f68f48ac",
   "metadata": {},
   "source": [
    "Q6. Which of the following is mutable in nature Series, DataFrame, Panel?\n",
    "Ans - Both Series and DataFrame are mutable in nature, while Panel is considered to be deprecated and its use is discouraged.\n",
    "\n",
    "In pandas, mutability means that the objects can be changed after they are created. For example, you can add, remove, or modify elements in a mutable object. Both Series and DataFrame can be modified by changing values in specific cells or adding/removing rows or columns.\n",
    "\n",
    "On the other hand, Panel is a three-dimensional data structure in pandas that can be thought of as a collection of DataFrame objects. However, its use is discouraged in favor of using MultiIndex DataFrames or xarray. Panel is considered to be deprecated and has been removed in the latest version of pandas (1.3.0).\n",
    "\n",
    "Therefore, Series and DataFrame are the primary mutable data structures in pandas, and they are widely used for data analysis and manipulation."
   ]
  },
  {
   "cell_type": "markdown",
   "id": "c8283ddf-665d-4b30-8151-f2071dde7e1f",
   "metadata": {},
   "source": [
    "Q7. Create a DataFrame using multiple Series. Explain with an example.\n",
    "Ans - "
   ]
  },
  {
   "cell_type": "code",
   "execution_count": 34,
   "id": "c1851ee9-2f47-4a6b-afac-8aa3e3d974df",
   "metadata": {},
   "outputs": [],
   "source": [
    "age = [1,2,3]\n",
    "mobile_num = [ 3434344,343554,3234353]\n",
    "flat = [ 345,543,376]"
   ]
  },
  {
   "cell_type": "code",
   "execution_count": 37,
   "id": "848a0f77-abaa-45c9-9344-b54b60585ce7",
   "metadata": {},
   "outputs": [
    {
     "name": "stdout",
     "output_type": "stream",
     "text": [
      "   col1     col2  col3\n",
      "0     1  3434344   345\n",
      "1     2   343554   543\n",
      "2     3  3234353   376\n"
     ]
    }
   ],
   "source": [
    "age_serise = pd.Series(age)\n",
    "mobile_num_serise = pd.Series(mobile_num)\n",
    "flat_serise = pd.Series(flat)\n",
    "\n",
    "all_data = pd.DataFrame({'col1':age_serise,'col2':mobile_num_serise, 'col3':flat_serise})\n",
    "print(all_data)"
   ]
  }
 ],
 "metadata": {
  "kernelspec": {
   "display_name": "Python 3 (ipykernel)",
   "language": "python",
   "name": "python3"
  },
  "language_info": {
   "codemirror_mode": {
    "name": "ipython",
    "version": 3
   },
   "file_extension": ".py",
   "mimetype": "text/x-python",
   "name": "python",
   "nbconvert_exporter": "python",
   "pygments_lexer": "ipython3",
   "version": "3.10.8"
  }
 },
 "nbformat": 4,
 "nbformat_minor": 5
}
